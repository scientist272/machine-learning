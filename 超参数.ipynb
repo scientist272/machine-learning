{
 "cells": [
  {
   "cell_type": "code",
   "execution_count": 1,
   "metadata": {},
   "outputs": [],
   "source": [
    "import numpy as np\n",
    "from sklearn import datasets"
   ]
  },
  {
   "cell_type": "code",
   "execution_count": 2,
   "metadata": {},
   "outputs": [],
   "source": [
    "digits = datasets.load_digits()\n",
    "x = digits.data\n",
    "y = digits.target"
   ]
  },
  {
   "cell_type": "code",
   "execution_count": 3,
   "metadata": {},
   "outputs": [],
   "source": [
    "from sklearn.model_selection import train_test_split\n",
    "from sklearn.neighbors import KNeighborsClassifier"
   ]
  },
  {
   "cell_type": "markdown",
   "metadata": {},
   "source": [
    "# 寻找最好的k"
   ]
  },
  {
   "cell_type": "code",
   "execution_count": 5,
   "metadata": {},
   "outputs": [
    {
     "name": "stdout",
     "output_type": "stream",
     "text": [
      "best_k: 10\n",
      "best_score: 0.9944444444444445\n"
     ]
    }
   ],
   "source": [
    "x_train,x_test,y_train,y_test = train_test_split(x,y,test_size=0.2)\n",
    "best_score = 0.0\n",
    "best_k = 1\n",
    "for k in range(1,11):\n",
    "    knn_clf = KNeighborsClassifier(n_neighbors=k)\n",
    "    knn_clf.fit(x_train,y_train)\n",
    "    score = knn_clf.score(x_test,y_test)\n",
    "    if score > best_score:\n",
    "        best_k = k\n",
    "        best_score = score\n",
    "print(\"best_k:\",k)\n",
    "print(\"best_score:\",score)"
   ]
  },
  {
   "cell_type": "code",
   "execution_count": 6,
   "metadata": {},
   "outputs": [
    {
     "name": "stdout",
     "output_type": "stream",
     "text": [
      "best_k: 19\n",
      "best_score: 0.9861111111111112\n"
     ]
    }
   ],
   "source": [
    "for k in range(8,20):  #10为边界，可以再搜索一\n",
    "    knn_clf = KNeighborsClassifier(n_neighbors=k)\n",
    "    knn_clf.fit(x_train,y_train)\n",
    "    score = knn_clf.score(x_test,y_test)\n",
    "    if score > best_score:\n",
    "        best_k = k\n",
    "        best_score = score\n",
    "print(\"best_k:\",k)\n",
    "print(\"best_score:\",score)"
   ]
  },
  {
   "cell_type": "markdown",
   "metadata": {},
   "source": [
    "# 考虑就离与不考虑距离"
   ]
  },
  {
   "cell_type": "code",
   "execution_count": 9,
   "metadata": {},
   "outputs": [
    {
     "name": "stdout",
     "output_type": "stream",
     "text": [
      "best_method: uniform\n",
      "best_k: 10\n",
      "best_score: 0.9944444444444445\n"
     ]
    }
   ],
   "source": [
    "best_method = \"\"\n",
    "best_score = 0.0\n",
    "best_k = 1\n",
    "for method in [\"uniform\",\"distance\"]:\n",
    "    for k in range(1,11):\n",
    "        knn_clf = KNeighborsClassifier(n_neighbors=k,weights=method)\n",
    "        knn_clf.fit(x_train,y_train)\n",
    "        score = knn_clf.score(x_test,y_test)\n",
    "        if score > best_score:\n",
    "            best_method = method\n",
    "            best_k = k\n",
    "            best_score = score\n",
    "print(\"best_method:\",best_method)\n",
    "print(\"best_k:\",k)\n",
    "print(\"best_score:\",score)"
   ]
  },
  {
   "cell_type": "markdown",
   "metadata": {},
   "source": [
    "# 搜索明可夫斯基距离"
   ]
  },
  {
   "cell_type": "code",
   "execution_count": 11,
   "metadata": {},
   "outputs": [
    {
     "name": "stdout",
     "output_type": "stream",
     "text": [
      "Wall time: 0 ns\n",
      "best_p: 5\n",
      "best_k: 10\n",
      "best_score: 0.9944444444444445\n"
     ]
    }
   ],
   "source": [
    "% %time\n",
    "best_p = 1\n",
    "best_score = 0.0\n",
    "best_k = 1\n",
    "for k in range(1,11):\n",
    "    for p in range(1,6):\n",
    "        knn_clf = KNeighborsClassifier(n_neighbors=k,p=p,weights=\"distance\")\n",
    "        knn_clf.fit(x_train,y_train)\n",
    "        score = knn_clf.score(x_test,y_test)\n",
    "        if score > best_score:\n",
    "            best_p= p\n",
    "            best_k = k\n",
    "            best_score = score\n",
    "print(\"best_p:\",p)\n",
    "print(\"best_k:\",k)\n",
    "print(\"best_score:\",score)"
   ]
  }
 ],
 "metadata": {
  "kernelspec": {
   "display_name": "Python 3",
   "language": "python",
   "name": "python3"
  },
  "language_info": {
   "codemirror_mode": {
    "name": "ipython",
    "version": 3
   },
   "file_extension": ".py",
   "mimetype": "text/x-python",
   "name": "python",
   "nbconvert_exporter": "python",
   "pygments_lexer": "ipython3",
   "version": "3.6.4"
  }
 },
 "nbformat": 4,
 "nbformat_minor": 2
}
