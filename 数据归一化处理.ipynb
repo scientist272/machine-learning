{
 "cells": [
  {
   "cell_type": "code",
   "execution_count": 1,
   "metadata": {},
   "outputs": [],
   "source": [
    "import numpy as np\n",
    "import matplotlib.pyplot as plt"
   ]
  },
  {
   "cell_type": "markdown",
   "metadata": {},
   "source": [
    "# 最值归一化 Normalization"
   ]
  },
  {
   "cell_type": "code",
   "execution_count": 2,
   "metadata": {},
   "outputs": [],
   "source": [
    "x = np.random.randint(0,100,size = 100)"
   ]
  },
  {
   "cell_type": "code",
   "execution_count": 3,
   "metadata": {},
   "outputs": [
    {
     "data": {
      "text/plain": [
       "array([85, 63, 87, 66, 34, 99, 75, 65, 79, 51, 77, 68, 56, 67, 15, 62, 94,\n",
       "       45, 99, 83, 71, 23, 86, 91,  7, 13, 59, 62, 77, 99, 29, 26, 53, 34,\n",
       "        3, 24, 60,  3, 54, 16, 25, 93, 74, 18, 10, 29, 17, 72, 32, 48, 38,\n",
       "       26, 51,  2, 90, 56,  8,  5, 82,  0, 34, 33, 62, 57, 37,  2, 26, 20,\n",
       "        9, 69, 99, 70, 44,  7, 84, 58, 20, 84, 62, 67, 49, 88, 54, 18, 14,\n",
       "       95, 29, 27, 93, 73, 69, 66, 83, 91, 85, 66, 43, 35, 34, 47])"
      ]
     },
     "execution_count": 3,
     "metadata": {},
     "output_type": "execute_result"
    }
   ],
   "source": [
    "x\n"
   ]
  },
  {
   "cell_type": "code",
   "execution_count": 4,
   "metadata": {},
   "outputs": [
    {
     "data": {
      "text/plain": [
       "array([0.85858586, 0.63636364, 0.87878788, 0.66666667, 0.34343434,\n",
       "       1.        , 0.75757576, 0.65656566, 0.7979798 , 0.51515152,\n",
       "       0.77777778, 0.68686869, 0.56565657, 0.67676768, 0.15151515,\n",
       "       0.62626263, 0.94949495, 0.45454545, 1.        , 0.83838384,\n",
       "       0.71717172, 0.23232323, 0.86868687, 0.91919192, 0.07070707,\n",
       "       0.13131313, 0.5959596 , 0.62626263, 0.77777778, 1.        ,\n",
       "       0.29292929, 0.26262626, 0.53535354, 0.34343434, 0.03030303,\n",
       "       0.24242424, 0.60606061, 0.03030303, 0.54545455, 0.16161616,\n",
       "       0.25252525, 0.93939394, 0.74747475, 0.18181818, 0.1010101 ,\n",
       "       0.29292929, 0.17171717, 0.72727273, 0.32323232, 0.48484848,\n",
       "       0.38383838, 0.26262626, 0.51515152, 0.02020202, 0.90909091,\n",
       "       0.56565657, 0.08080808, 0.05050505, 0.82828283, 0.        ,\n",
       "       0.34343434, 0.33333333, 0.62626263, 0.57575758, 0.37373737,\n",
       "       0.02020202, 0.26262626, 0.2020202 , 0.09090909, 0.6969697 ,\n",
       "       1.        , 0.70707071, 0.44444444, 0.07070707, 0.84848485,\n",
       "       0.58585859, 0.2020202 , 0.84848485, 0.62626263, 0.67676768,\n",
       "       0.49494949, 0.88888889, 0.54545455, 0.18181818, 0.14141414,\n",
       "       0.95959596, 0.29292929, 0.27272727, 0.93939394, 0.73737374,\n",
       "       0.6969697 , 0.66666667, 0.83838384, 0.91919192, 0.85858586,\n",
       "       0.66666667, 0.43434343, 0.35353535, 0.34343434, 0.47474747])"
      ]
     },
     "execution_count": 4,
     "metadata": {},
     "output_type": "execute_result"
    }
   ],
   "source": [
    "(x - np.min(x))/ (np.max(x)-np.min(x))"
   ]
  },
  {
   "cell_type": "code",
   "execution_count": 5,
   "metadata": {},
   "outputs": [],
   "source": [
    "X = np.random.randint(0,100,(50,2))"
   ]
  },
  {
   "cell_type": "code",
   "execution_count": 6,
   "metadata": {},
   "outputs": [
    {
     "data": {
      "text/plain": [
       "array([[92, 55],\n",
       "       [71, 20],\n",
       "       [98, 90],\n",
       "       [89, 22],\n",
       "       [41, 56],\n",
       "       [41, 43],\n",
       "       [44,  0],\n",
       "       [63, 17],\n",
       "       [63, 55],\n",
       "       [27,  6],\n",
       "       [72,  4],\n",
       "       [70, 92],\n",
       "       [50, 29],\n",
       "       [33, 42],\n",
       "       [21,  8],\n",
       "       [99, 49],\n",
       "       [88,  7],\n",
       "       [71, 24],\n",
       "       [79, 48],\n",
       "       [75, 49],\n",
       "       [38, 74],\n",
       "       [75, 30],\n",
       "       [96, 43],\n",
       "       [38, 50],\n",
       "       [79, 18],\n",
       "       [27, 34],\n",
       "       [79, 27],\n",
       "       [91, 14],\n",
       "       [82, 86],\n",
       "       [39, 93],\n",
       "       [69, 97],\n",
       "       [18,  3],\n",
       "       [56, 64],\n",
       "       [12,  4],\n",
       "       [99, 28],\n",
       "       [44, 73],\n",
       "       [71, 88],\n",
       "       [62, 44],\n",
       "       [21, 42],\n",
       "       [85, 77],\n",
       "       [54,  2],\n",
       "       [51, 60],\n",
       "       [14, 32],\n",
       "       [21, 89],\n",
       "       [39, 32],\n",
       "       [17,  5],\n",
       "       [88, 26],\n",
       "       [53, 11],\n",
       "       [ 2, 31],\n",
       "       [35, 86]])"
      ]
     },
     "execution_count": 6,
     "metadata": {},
     "output_type": "execute_result"
    }
   ],
   "source": [
    "X"
   ]
  },
  {
   "cell_type": "code",
   "execution_count": 8,
   "metadata": {},
   "outputs": [],
   "source": [
    "X = np.array(X,dtype=float)"
   ]
  },
  {
   "cell_type": "code",
   "execution_count": 9,
   "metadata": {},
   "outputs": [
    {
     "data": {
      "text/plain": [
       "array([[92., 55.],\n",
       "       [71., 20.],\n",
       "       [98., 90.],\n",
       "       [89., 22.],\n",
       "       [41., 56.],\n",
       "       [41., 43.],\n",
       "       [44.,  0.],\n",
       "       [63., 17.],\n",
       "       [63., 55.],\n",
       "       [27.,  6.],\n",
       "       [72.,  4.],\n",
       "       [70., 92.],\n",
       "       [50., 29.],\n",
       "       [33., 42.],\n",
       "       [21.,  8.],\n",
       "       [99., 49.],\n",
       "       [88.,  7.],\n",
       "       [71., 24.],\n",
       "       [79., 48.],\n",
       "       [75., 49.],\n",
       "       [38., 74.],\n",
       "       [75., 30.],\n",
       "       [96., 43.],\n",
       "       [38., 50.],\n",
       "       [79., 18.],\n",
       "       [27., 34.],\n",
       "       [79., 27.],\n",
       "       [91., 14.],\n",
       "       [82., 86.],\n",
       "       [39., 93.],\n",
       "       [69., 97.],\n",
       "       [18.,  3.],\n",
       "       [56., 64.],\n",
       "       [12.,  4.],\n",
       "       [99., 28.],\n",
       "       [44., 73.],\n",
       "       [71., 88.],\n",
       "       [62., 44.],\n",
       "       [21., 42.],\n",
       "       [85., 77.],\n",
       "       [54.,  2.],\n",
       "       [51., 60.],\n",
       "       [14., 32.],\n",
       "       [21., 89.],\n",
       "       [39., 32.],\n",
       "       [17.,  5.],\n",
       "       [88., 26.],\n",
       "       [53., 11.],\n",
       "       [ 2., 31.],\n",
       "       [35., 86.]])"
      ]
     },
     "execution_count": 9,
     "metadata": {},
     "output_type": "execute_result"
    }
   ],
   "source": [
    "X"
   ]
  },
  {
   "cell_type": "code",
   "execution_count": 10,
   "metadata": {},
   "outputs": [],
   "source": [
    "X[:,0] = (X[:,0]-np.min(X[:,0]))/(np.max(X[:,0])-np.min(X[:,0]))"
   ]
  },
  {
   "cell_type": "code",
   "execution_count": 11,
   "metadata": {},
   "outputs": [],
   "source": [
    "X[:,1] = (X[:,1]-np.min(X[:,1]))/(np.max(X[:,1])-np.min(X[:,1]))"
   ]
  },
  {
   "cell_type": "code",
   "execution_count": 12,
   "metadata": {},
   "outputs": [
    {
     "data": {
      "text/plain": [
       "array([[0.92783505, 0.56701031],\n",
       "       [0.71134021, 0.20618557],\n",
       "       [0.98969072, 0.92783505],\n",
       "       [0.89690722, 0.22680412],\n",
       "       [0.40206186, 0.57731959],\n",
       "       [0.40206186, 0.44329897],\n",
       "       [0.43298969, 0.        ],\n",
       "       [0.62886598, 0.17525773],\n",
       "       [0.62886598, 0.56701031],\n",
       "       [0.25773196, 0.06185567]])"
      ]
     },
     "execution_count": 12,
     "metadata": {},
     "output_type": "execute_result"
    }
   ],
   "source": [
    "X[:10,:]"
   ]
  },
  {
   "cell_type": "code",
   "execution_count": 13,
   "metadata": {},
   "outputs": [
    {
     "data": {
      "image/png": "[encoded data removed]",
      "text/plain": [
       "<matplotlib.figure.Figure at 0x21da9e59ba8>"
      ]
     },
     "metadata": {},
     "output_type": "display_data"
    }
   ],
   "source": [
    "plt.scatter(X[:,0],X[:,1])\n",
    "plt.show()"
   ]
  },
  {
   "cell_type": "markdown",
   "metadata": {},
   "source": [
    "# 均值方差归一化 Standardization"
   ]
  },
  {
   "cell_type": "code",
   "execution_count": 14,
   "metadata": {},
   "outputs": [],
   "source": [
    "X2 = np.random.randint(0,100,(50,2))"
   ]
  },
  {
   "cell_type": "code",
   "execution_count": 15,
   "metadata": {},
   "outputs": [],
   "source": [
    "X2 = np.array(X2,dtype=float)"
   ]
  },
  {
   "cell_type": "code",
   "execution_count": 16,
   "metadata": {},
   "outputs": [
    {
     "data": {
      "text/plain": [
       "array([[29., 45.],\n",
       "       [96.,  3.],\n",
       "       [31., 26.],\n",
       "       [ 6.,  2.],\n",
       "       [26., 53.],\n",
       "       [41., 93.],\n",
       "       [54.,  3.],\n",
       "       [42., 78.],\n",
       "       [12., 76.],\n",
       "       [28.,  4.]])"
      ]
     },
     "execution_count": 16,
     "metadata": {},
     "output_type": "execute_result"
    }
   ],
   "source": [
    "X2[:10,:]"
   ]
  },
  {
   "cell_type": "code",
   "execution_count": 17,
   "metadata": {},
   "outputs": [],
   "source": [
    "X2[:,0] = (X2[:,0]-np.mean(X2[:,0]))/np.std(X2[:,0])"
   ]
  },
  {
   "cell_type": "code",
   "execution_count": 18,
   "metadata": {},
   "outputs": [],
   "source": [
    "X2[:,1] = (X2[:,1]-np.mean(X2[:,1]))/np.std(X2[:,1])"
   ]
  },
  {
   "cell_type": "code",
   "execution_count": 21,
   "metadata": {},
   "outputs": [
    {
     "data": {
      "image/png": "[encoded data removed]",
      "text/plain": [
       "<matplotlib.figure.Figure at 0x21da8bdfe10>"
      ]
     },
     "metadata": {},
     "output_type": "display_data"
    }
   ],
   "source": [
    "plt.scatter(X2[:,0],X2[:,1])\n",
    "plt.show()"
   ]
  },
  {
   "cell_type": "code",
   "execution_count": 22,
   "metadata": {},
   "outputs": [
    {
     "data": {
      "text/plain": [
       "array([[-0.70818098, -0.00203002],\n",
       "       [ 1.56423882, -1.42304562],\n",
       "       [-0.64034755, -0.64487041],\n",
       "       [-1.48826538, -1.45687932],\n",
       "       [-0.80993112,  0.26863961],\n",
       "       [-0.30118041,  1.6219878 ],\n",
       "       [ 0.13973686, -1.42304562],\n",
       "       [-0.2672637 ,  1.11448223],\n",
       "       [-1.2847651 ,  1.04681482],\n",
       "       [-0.74209769, -1.38921191]])"
      ]
     },
     "execution_count": 22,
     "metadata": {},
     "output_type": "execute_result"
    }
   ],
   "source": [
    "X2[:10,:]"
   ]
  }
 ],
 "metadata": {
  "kernelspec": {
   "display_name": "Python 3",
   "language": "python",
   "name": "python3"
  },
  "language_info": {
   "codemirror_mode": {
    "name": "ipython",
    "version": 3
   },
   "file_extension": ".py",
   "mimetype": "text/x-python",
   "name": "python",
   "nbconvert_exporter": "python",
   "pygments_lexer": "ipython3",
   "version": "3.6.4"
  }
 },
 "nbformat": 4,
 "nbformat_minor": 2
}
